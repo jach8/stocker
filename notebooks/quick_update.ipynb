{
 "cells": [
  {
   "cell_type": "code",
   "execution_count": 2,
   "metadata": {},
   "outputs": [],
   "source": [
    "import sys \n",
    "sys.path.append('../')\n",
    "\n",
    "from main import Pipeline \n",
    "from bin.main import get_path "
   ]
  },
  {
   "cell_type": "code",
   "execution_count": 5,
   "metadata": {},
   "outputs": [
    {
     "data": {
      "text/plain": [
       "{'bonds_db': '../data/bonds/bonds.db',\n",
       " 'daily_db': '../data/prices/stocks.db',\n",
       " 'intraday_db': '../data/prices/stocks_intraday.db',\n",
       " 'ticker_path': '../data/stocks/tickers.json',\n",
       " 'inactive_db': '../data/options/log/inactive.db',\n",
       " 'backup_db': '../data/options/log/backup.db',\n",
       " 'tracking_values_db': '../data/options/tracking_values.db',\n",
       " 'tracking_db': '../data/options/tracking.db',\n",
       " 'stats_db': '../data/options/stats.db',\n",
       " 'vol_db': '../data/options/vol.db',\n",
       " 'change_db': '../data/options/option_change.db',\n",
       " 'option_db': '../data/options/options.db',\n",
       " 'earnings_dict': '../data/earnings/earnings.pkl',\n",
       " 'stock_names': '../data/stocks/stock_names.db',\n",
       " 'stock_info_dict': '../data/stocks/stock_info.json'}"
      ]
     },
     "execution_count": 5,
     "metadata": {},
     "output_type": "execute_result"
    }
   ],
   "source": [
    "# Initialize the Pipeline Object with the dictionary of database connections \n",
    "# To get the dictionary of connections you can use the get_path function from the bin.main module\n",
    "#  You should only need to use this if there is a error that is not being caught by the pipeline\n",
    "# The get path function dependes on the current location of the file that is calling it, so we need to point it to the main directory\n",
    "connections = get_path(pre = '../')\n",
    "connections"
   ]
  },
  {
   "cell_type": "code",
   "execution_count": 6,
   "metadata": {},
   "outputs": [
    {
     "name": "stdout",
     "output_type": "stream",
     "text": [
      "Options db Connected: 2024-11-08 12:34:35.700187\n",
      "Prices Connected: 2024-11-08 12:34:35.701990\n"
     ]
    }
   ],
   "source": [
    "# Similarly you will initiate the Pipeline Object with the dictionary of connections\n",
    "pipe = Pipeline('../')"
   ]
  },
  {
   "cell_type": "code",
   "execution_count": 7,
   "metadata": {},
   "outputs": [
    {
     "name": "stderr",
     "output_type": "stream",
     "text": [
      "Options Data \u001b[92m$VKTX\u001b[0m: 100%|██████████| 2/2 [00:08<00:00,  4.22s/it]\n",
      "CP...: 100%|██████████| 2/2 [00:00<00:00, 82.38it/s]\n"
     ]
    },
    {
     "name": "stdout",
     "output_type": "stream",
     "text": [
      "Error: rddt\n",
      "Error: vktx\n"
     ]
    },
    {
     "name": "stderr",
     "output_type": "stream",
     "text": [
      "Initializing Expected Move Table $VKTX: 100%|██████████| 2/2 [00:00<00:00, 43.36it/s]\n",
      "vktx: 100%|██████████| 2/2 [00:00<00:00, 115.61it/s]\n"
     ]
    }
   ],
   "source": [
    "# Update the Option Database \n",
    "pipe.update_options()"
   ]
  },
  {
   "cell_type": "code",
   "execution_count": 8,
   "metadata": {},
   "outputs": [
    {
     "name": "stderr",
     "output_type": "stream",
     "text": [
      "[*********************100%%**********************]  2 of 2 completed\n",
      "[*********************100%%**********************]  2 of 2 completed\n"
     ]
    },
    {
     "name": "stdout",
     "output_type": "stream",
     "text": [
      "Stocks Updated (Daily Data)\n",
      "Stocks Updated (Intraday Data)\n",
      "--------------------------------------------------------- Winners ---------------------------------------------------------\n",
      "              Daily             Weekly           Monthly         Quarterly  \\\n",
      "0  ($rddt, -0.961%)   ($rddt, 60.001%)   ($rddt, 9.117%)  ($rddt, 97.477%)   \n",
      "1   ($vktx, -3.05%)  ($vktx, -14.456%)  ($vktx, -7.982%)   ($vktx, 5.434%)   \n",
      "\n",
      "              Annual                YTD  \n",
      "0  ($rddt, 182.993%)  ($rddt, 182.993%)  \n",
      "1   ($vktx, -4.026%)   ($vktx, -4.026%)  \n",
      "--------------------------------------------------------- Losers ---------------------------------------------------------\n",
      "              Daily             Weekly           Monthly         Quarterly  \\\n",
      "0   ($vktx, -3.05%)  ($vktx, -14.456%)  ($vktx, -7.982%)   ($vktx, 5.434%)   \n",
      "1  ($rddt, -0.961%)   ($rddt, 60.001%)   ($rddt, 9.117%)  ($rddt, 97.477%)   \n",
      "\n",
      "              Annual                YTD  \n",
      "0   ($vktx, -4.026%)   ($vktx, -4.026%)  \n",
      "1  ($rddt, 182.993%)  ($rddt, 182.993%)  \n"
     ]
    }
   ],
   "source": [
    "# Update the Stock Prices \n",
    "pipe.update_stock_prices()"
   ]
  },
  {
   "cell_type": "code",
   "execution_count": null,
   "metadata": {},
   "outputs": [],
   "source": []
  }
 ],
 "metadata": {
  "kernelspec": {
   "display_name": "ds24",
   "language": "python",
   "name": "python3"
  },
  "language_info": {
   "codemirror_mode": {
    "name": "ipython",
    "version": 3
   },
   "file_extension": ".py",
   "mimetype": "text/x-python",
   "name": "python",
   "nbconvert_exporter": "python",
   "pygments_lexer": "ipython3",
   "version": "3.12.1"
  }
 },
 "nbformat": 4,
 "nbformat_minor": 2
}
