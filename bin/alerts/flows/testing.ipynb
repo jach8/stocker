{
 "cells": [
  {
   "cell_type": "code",
   "execution_count": 1,
   "metadata": {},
   "outputs": [],
   "source": [
    "from tqdm import tqdm \n",
    "import pandas as pd \n",
    "import numpy as np \n",
    "import datetime as dt \n",
    "\n",
    "import sys\n",
    "sys.path.append('/Users/jerald/Documents/Dir/Python/Stocks')\n",
    "from bin.main import get_path \n",
    "\n",
    "connections = get_path('../../../')"
   ]
  },
  {
   "cell_type": "code",
   "execution_count": 2,
   "metadata": {},
   "outputs": [],
   "source": [
    "from gflow import cp_data_utility\n",
    "\n",
    "cp_dat = cp_data_utility(connections)"
   ]
  },
  {
   "cell_type": "code",
   "execution_count": 3,
   "metadata": {},
   "outputs": [
    {
     "name": "stdout",
     "output_type": "stream",
     "text": [
      "41\n"
     ]
    }
   ],
   "source": [
    "dates = list(cp_dat.get_daily_ohlcv('amzn').set_index('Date')['2024-11-01':'2024-12-31'].index.astype(str))\n",
    "print(len(dates))"
   ]
  },
  {
   "cell_type": "code",
   "execution_count": 4,
   "metadata": {},
   "outputs": [
    {
     "name": "stderr",
     "output_type": "stream",
     "text": [
      "  0%|          | 0/41 [00:00<?, ?it/s]\n"
     ]
    },
    {
     "name": "stderr",
     "output_type": "stream",
     "text": [
      "Daily Option Stats for 2024-11-01: 100%|██████████| 182/182 [00:02<00:00, 70.74it/s]\n",
      "Daily Option Stats for 2024-11-04: 100%|██████████| 182/182 [00:02<00:00, 78.64it/s]\n",
      "Daily Option Stats for 2024-11-05: 100%|██████████| 182/182 [00:02<00:00, 84.01it/s]\n",
      "Daily Option Stats for 2024-11-06: 100%|██████████| 182/182 [00:02<00:00, 79.12it/s]\n",
      "Daily Option Stats for 2024-11-07: 100%|██████████| 182/182 [00:02<00:00, 82.22it/s]\n",
      "Daily Option Stats for 2024-11-08: 100%|██████████| 182/182 [00:02<00:00, 77.92it/s]\n",
      "Daily Option Stats for 2024-11-11: 100%|██████████| 182/182 [00:02<00:00, 80.84it/s] \n",
      "Daily Option Stats for 2024-11-12: 100%|██████████| 182/182 [00:02<00:00, 78.83it/s]\n",
      "Daily Option Stats for 2024-11-13: 100%|██████████| 182/182 [00:02<00:00, 79.56it/s]\n",
      "Daily Option Stats for 2024-11-14: 100%|██████████| 182/182 [00:02<00:00, 83.89it/s] \n",
      "Daily Option Stats for 2024-11-15: 100%|██████████| 182/182 [00:02<00:00, 79.69it/s]\n",
      "Daily Option Stats for 2024-11-18: 100%|██████████| 182/182 [00:02<00:00, 79.43it/s]\n",
      "Daily Option Stats for 2024-11-19: 100%|██████████| 182/182 [00:02<00:00, 79.12it/s] \n",
      "Daily Option Stats for 2024-11-20: 100%|██████████| 182/182 [00:02<00:00, 83.32it/s] \n",
      "Daily Option Stats for 2024-11-21: 100%|██████████| 182/182 [00:02<00:00, 80.72it/s]\n",
      "Daily Option Stats for 2024-11-22: 100%|██████████| 182/182 [00:02<00:00, 83.23it/s]\n",
      "Daily Option Stats for 2024-11-25: 100%|██████████| 182/182 [00:02<00:00, 80.37it/s]\n",
      "Daily Option Stats for 2024-11-26: 100%|██████████| 182/182 [00:02<00:00, 84.61it/s]\n",
      "Daily Option Stats for 2024-11-27: 100%|██████████| 182/182 [00:02<00:00, 84.70it/s]\n",
      "Daily Option Stats for 2024-11-29: 100%|██████████| 182/182 [00:02<00:00, 80.02it/s] \n",
      "Daily Option Stats for 2024-12-02: 100%|██████████| 182/182 [00:02<00:00, 82.89it/s]\n",
      "Daily Option Stats for 2024-12-03: 100%|██████████| 182/182 [00:02<00:00, 81.75it/s]\n",
      "Daily Option Stats for 2024-12-04: 100%|██████████| 182/182 [00:02<00:00, 84.24it/s]\n",
      "Daily Option Stats for 2024-12-05: 100%|██████████| 182/182 [00:02<00:00, 79.81it/s] \n",
      "Daily Option Stats for 2024-12-06: 100%|██████████| 182/182 [00:02<00:00, 81.45it/s] \n",
      "Daily Option Stats for 2024-12-09: 100%|██████████| 182/182 [00:02<00:00, 72.75it/s]\n",
      "Daily Option Stats for 2024-12-10: 100%|██████████| 182/182 [00:02<00:00, 81.75it/s] \n",
      "Daily Option Stats for 2024-12-11: 100%|██████████| 182/182 [00:02<00:00, 80.82it/s]\n",
      "Daily Option Stats for 2024-12-12: 100%|██████████| 182/182 [00:02<00:00, 83.40it/s]\n",
      "Daily Option Stats for 2024-12-13: 100%|██████████| 182/182 [00:02<00:00, 81.72it/s] \n",
      "Daily Option Stats for 2024-12-16: 100%|██████████| 182/182 [00:02<00:00, 79.25it/s] \n",
      "Daily Option Stats for 2024-12-17: 100%|██████████| 182/182 [00:02<00:00, 79.38it/s]\n",
      "Daily Option Stats for 2024-12-18: 100%|██████████| 182/182 [00:02<00:00, 78.93it/s]\n",
      "Daily Option Stats for 2024-12-19: 100%|██████████| 182/182 [00:02<00:00, 78.89it/s]\n",
      "Daily Option Stats for 2024-12-20: 100%|██████████| 182/182 [00:02<00:00, 78.82it/s] \n",
      "Daily Option Stats for 2024-12-23: 100%|██████████| 182/182 [00:02<00:00, 80.98it/s] \n",
      "Daily Option Stats for 2024-12-24: 100%|██████████| 182/182 [00:02<00:00, 78.25it/s]\n",
      "Daily Option Stats for 2024-12-26: 100%|██████████| 182/182 [00:02<00:00, 82.32it/s] \n",
      "Daily Option Stats for 2024-12-27: 100%|██████████| 182/182 [00:02<00:00, 74.67it/s]\n",
      "Daily Option Stats for 2024-12-30: 100%|██████████| 182/182 [00:02<00:00, 78.30it/s]\n",
      "Daily Option Stats for 2024-12-31: 100%|██████████| 182/182 [00:02<00:00, 78.43it/s]\n",
      "100%|██████████| 41/41 [01:34<00:00,  2.31s/it]\n"
     ]
    }
   ],
   "source": [
    "temp_dict = {}\n",
    "\n",
    "for date in tqdm(dates):\n",
    "    try:\n",
    "        temp_dict[date] = cp_dat.get_stocks(date = date)\n",
    "    except Exception as e:\n",
    "        print(f'Error: {e}')\n",
    "        break"
   ]
  },
  {
   "cell_type": "code",
   "execution_count": null,
   "metadata": {},
   "outputs": [
    {
     "name": "stderr",
     "output_type": "stream",
     "text": [
      "100%|██████████| 41/41 [00:00<00:00, 504300.48it/s]\n"
     ]
    }
   ],
   "source": [
    "# Get the keys within each date of the tmp_dict\n",
    "tmp_keys = list(temp_dict[dates[0]].keys())\n",
    "\n",
    "reversals = {}\n",
    "\n",
    "for date in tqdm(dates):\n",
    "    reversals[date] = temp_dict[date][tmp_keys[2]].copy()\n",
    "\n",
    "r = {date: [x for x in reversals[date]][:] for date in reversals.keys()}"
   ]
  },
  {
   "cell_type": "code",
   "execution_count": 8,
   "metadata": {},
   "outputs": [
    {
     "data": {
      "text/plain": [
       "['highest_call_volume',\n",
       " 'highest_call_oi',\n",
       " 'largest_call_oi_increase',\n",
       " 'largest_call_oi_decrease',\n",
       " 'highest_put_oi',\n",
       " 'largest_put_oi_increase',\n",
       " 'largest_put_oi_decrease']"
      ]
     },
     "execution_count": 8,
     "metadata": {},
     "output_type": "execute_result"
    }
   ],
   "source": [
    "tmp_keys"
   ]
  },
  {
   "cell_type": "code",
   "execution_count": 7,
   "metadata": {},
   "outputs": [
    {
     "name": "stdout",
     "output_type": "stream",
     "text": [
      "2024-11-01 : [{'intc': 1936701.0}, {'smci': 79613.0}, {'bkkt': 58652.0}, {'coin': 44257.0}, {'uber': 28791.0}, {'amd': 28045.0}, {'mara': 27262.0}, {'clsk': 26940.0}, {'djt': 25552.0}, {'baba': 25109.0}]\n",
      "2024-11-04 : [{'wfc': 476096.0}, {'qs': 294307.0}, {'qcom': 185754.0}, {'abbv': 145857.0}, {'rblx': 138867.0}, {'tgt': 109668.0}, {'rkt': 95600.0}, {'mos': 75007.0}, {'bkkt': 58652.0}, {'lc': 41014.0}]\n",
      "2024-11-05 : [{'pltr': 92620.0}, {'djt': 65436.0}, {'bkkt': 58652.0}, {'run': 56958.0}, {'c': 48112.0}, {'amd': 37057.0}, {'f': 35217.0}, {'smci': 32938.0}, {'xom': 24220.0}, {'mara': 20075.0}]\n",
      "2024-11-06 : [{'djt': 106780.0}, {'smci': 90432.0}, {'pltr': 78514.0}, {'coin': 75790.0}, {'bkkt': 58652.0}, {'intc': 33439.0}, {'f': 27009.0}, {'ba': 25456.0}, {'run': 25340.0}, {'hood': 22626.0}]\n",
      "2024-11-07 : [{'wfc': 79094.0}, {'bkkt': 58652.0}, {'smci': 50059.0}, {'jpm': 48979.0}, {'mara': 40972.0}, {'c': 33371.0}, {'qs': 29234.0}, {'wmt': 28377.0}, {'baba': 21735.0}, {'intc': 20004.0}]\n",
      "2024-11-08 : [{'pltr': 970944.0}, {'vale': 927952.0}, {'baba': 647184.0}, {'wmt': 585742.0}, {'mu': 481818.0}, {'dkng': 362880.0}, {'gme': 340532.0}, {'crwd': 132497.0}, {'mo': 123789.0}, {'pep': 79086.0}]\n",
      "2024-11-11 : [{'bkkt': 58652.0}, {'run': 53578.0}, {'mara': 35320.0}, {'snap': 25206.0}, {'ba': 14868.0}, {'v': 13244.0}, {'f': 12534.0}, {'expe': 12150.0}, {'adbe': 10670.0}, {'sbux': 8358.0}]\n",
      "2024-11-12 : [{'coin': 70940.0}, {'amc': 60959.0}, {'bkkt': 58652.0}, {'sofi': 52822.0}, {'amd': 42686.0}, {'baba': 35462.0}, {'snap': 30798.0}, {'wfc': 28982.0}, {'hood': 28714.0}, {'pltr': 27617.0}]\n",
      "2024-11-13 : [{'smci': 64860.0}, {'bkkt': 58652.0}, {'pfe': 52126.0}, {'amd': 44991.0}, {'mara': 44319.0}, {'gme': 42910.0}, {'amc': 34414.0}, {'oxy': 29701.0}, {'ba': 28842.0}, {'sofi': 26157.0}]\n",
      "2024-11-14 : [{'csco': 81422.0}, {'x': 72674.0}, {'li': 64860.0}, {'bkkt': 58652.0}, {'ccj': 58192.0}, {'amd': 53376.0}, {'mara': 49458.0}, {'ba': 33722.0}, {'wfc': 31526.0}, {'baba': 26862.0}]\n",
      "2024-11-15 : [{'bkkt': 58652.0}, {'amat': 53907.0}, {'baba': 52238.0}, {'pfe': 39524.0}, {'smci': 36488.0}, {'ba': 32066.0}, {'hims': 22773.0}, {'mara': 18420.0}, {'pltr': 17663.0}, {'wba': 14092.0}]\n",
      "2024-11-18 : [{'pfe': 138988.0}, {'sofi': 98258.0}, {'bkkt': 58652.0}, {'hims': 35650.0}, {'clsk': 33852.0}, {'baba': 28930.0}, {'coin': 28036.0}, {'dis': 21426.0}, {'mpw': 19974.0}, {'avgo': 15846.0}]\n",
      "2024-11-19 : [{'smci': 123591.0}, {'wmt': 60349.0}, {'mara': 58856.0}, {'bkkt': 58652.0}, {'djt': 43197.0}, {'afrm': 39209.0}, {'amd': 35862.0}, {'pltr': 34552.0}, {'intc': 29582.0}, {'uber': 29354.0}]\n",
      "2024-11-20 : [{'f': 2829704.0}, {'intc': 2131976.0}, {'amc': 1577653.0}, {'sofi': 1437070.0}, {'smci': 1386415.0}, {'clsk': 1108576.0}, {'ba': 1073130.0}, {'vale': 935545.0}, {'c': 885863.0}, {'avgo': 818459.0}]\n",
      "2024-11-21 : [{'ba': 1073130.0}, {'tgt': 44838.0}, {'x': 38515.0}, {'amd': 37142.0}, {'amc': 34817.0}, {'hood': 33148.0}, {'intc': 29706.0}, {'panw': 21571.0}, {'avgo': 18492.0}, {'wmt': 17832.0}]\n",
      "2024-11-22 : [{'sofi': 23792.0}, {'clsk': 18818.0}, {'baba': 16539.0}, {'amd': 15895.0}, {'smci': 14344.0}, {'cvx': 11409.0}, {'f': 10907.0}, {'pltr': 10607.0}, {'wfc': 10123.0}, {'afrm': 9669.0}]\n",
      "2024-11-25 : [{'intc': 2161125.0}, {'sofi': 1471262.0}, {'pfe': 1455334.0}, {'c': 1027814.0}, {'baba': 885089.0}, {'avgo': 830022.0}, {'snap': 705249.0}, {'wmt': 651191.0}, {'x': 607377.0}, {'clsk': 567205.0}]\n",
      "2024-11-26 : [{'smci': 81969.0}, {'amc': 63571.0}, {'amd': 48730.0}, {'pltr': 39552.0}, {'mara': 34497.0}, {'open': 33930.0}, {'hood': 32137.0}, {'hims': 21345.0}, {'qs': 12440.0}, {'rkt': 12264.0}]\n",
      "2024-11-27 : [{'aal': 110891.0}, {'amd': 73869.0}, {'intc': 37348.0}, {'pltr': 33081.0}, {'x': 31119.0}, {'dell': 29112.0}, {'crwd': 21204.0}, {'coin': 19367.0}, {'wba': 19069.0}, {'xom': 18431.0}]\n",
      "2024-11-29 : [{'ctva': 1419.0}, {'sol': -4.0}, {'dbx': -1011.0}, {'lc': -1908.0}, {'fcel': -2192.0}, {'ardx': -3765.0}, {'vuzi': -3992.0}, {'cmre': -4440.0}, {'rrc': -4477.0}, {'ctra': -4530.0}]\n",
      "2024-12-02 : [{'intc': 3552070.0}, {'sofi': 2410004.0}, {'f': 2259399.0}, {'smci': 2200786.0}, {'pltr': 2197839.0}, {'c': 1663524.0}, {'pypl': 1616061.0}, {'vale': 1568740.0}, {'baba': 1412151.0}, {'hood': 1204619.0}]\n",
      "2024-12-03 : [{'mara': 77138.0}, {'intc': 66311.0}, {'bkkt': 58652.0}, {'smci': 53236.0}, {'amd': 43382.0}, {'clsk': 38650.0}, {'amc': 34401.0}, {'sofi': 31597.0}, {'baba': 31554.0}, {'f': 31485.0}]\n",
      "2024-12-04 : [{'smci': 131069.0}, {'aal': 108652.0}, {'intc': 99705.0}, {'pltr': 66112.0}, {'bkkt': 58652.0}, {'pep': 52214.0}, {'coin': 48330.0}, {'amd': 38620.0}, {'sofi': 32855.0}, {'mara': 32291.0}]\n",
      "2024-12-05 : [{'pltr': 42416.0}, {'amd': 30166.0}, {'pfe': 14049.0}, {'avgo': 12609.0}, {'sofi': 12039.0}, {'roku': 11258.0}, {'amc': 10445.0}, {'dash': 8109.0}, {'snap': 6017.0}, {'jpm': 5673.0}]\n",
      "2024-12-06 : [{'sofi': 1620805.0}, {'smci': 1481246.0}, {'pltr': 1318738.0}, {'pfe': 1049849.0}, {'baba': 1027194.0}, {'vale': 993948.0}, {'amc': 918043.0}, {'pypl': 904838.0}, {'avgo': 867524.0}, {'aal': 801984.0}]\n",
      "2024-12-09 : [{'intc': 2602266.0}, {'baba': 1036763.0}, {'aal': 775879.0}, {'wmt': 747916.0}, {'wfc': 639985.0}, {'pfe': 580944.0}, {'mu': 580887.0}, {'cvx': 261206.0}, {'qcom': 252099.0}, {'tgt': 227885.0}]\n",
      "2024-12-10 : [{'djt': 220087.0}, {'hims': 200909.0}, {'amd': 100110.0}, {'pltr': 99334.0}, {'sofi': 66382.0}, {'bkkt': 58652.0}, {'orcl': 50250.0}, {'intc': 45396.0}, {'smci': 45350.0}, {'amc': 37720.0}]\n",
      "2024-12-11 : [{'smci': 79459.0}, {'snap': 64520.0}, {'bkkt': 58652.0}, {'amd': 56708.0}, {'mu': 41333.0}, {'aal': 41078.0}, {'pltr': 33308.0}, {'sofi': 31822.0}, {'pfe': 30744.0}, {'mara': 28736.0}]\n",
      "2024-12-12 : [{'bkkt': 58652.0}, {'f': 16995.0}, {'intc': 10853.0}, {'qs': 5284.0}, {'ibm': 3446.0}, {'pltr': 3413.0}, {'amd': 2917.0}, {'gme': 2174.0}, {'smci': 2125.0}, {'uber': 1996.0}]\n",
      "2024-12-13 : [{'pltr': 34366.0}, {'smci': 7165.0}, {'intc': 3993.0}, {'uber': 1996.0}, {'mara': 1930.0}, {'amd': 1504.0}, {'baba': 1500.0}, {'fcel': 1340.0}, {'clsk': 1252.0}, {'adbe': 1104.0}]\n",
      "2024-12-16 : [{'vale': 16932.0}, {'pfe': 9912.0}, {'oxy': 6844.0}, {'clsk': 4641.0}, {'amd': 4249.0}, {'uber': 3485.0}, {'chgg': 2716.0}, {'mu': 2260.0}, {'wfc': 2051.0}, {'wba': 1942.0}]\n",
      "2024-12-17 : [{'uber': 44041.0}, {'u': 11886.0}, {'snow': 4554.0}, {'pltr': 4139.0}, {'cvs': 3711.0}, {'mu': 3362.0}, {'xom': 3054.0}, {'wba': 2849.0}, {'chgg': 1951.0}, {'f': 1818.0}]\n",
      "2024-12-18 : [{'intc': 1118789.0}, {'uber': 934244.0}, {'f': 693096.0}, {'sofi': 587155.0}, {'pfe': 561083.0}, {'smci': 551374.0}, {'c': 537932.0}, {'amd': 526625.0}, {'pypl': 511513.0}, {'amc': 486693.0}]\n",
      "2024-12-19 : [{'bkkt': 58652.0}, {'f': 29779.0}, {'qs': 17641.0}, {'mu': 15306.0}, {'amd': 10410.0}, {'gme': 10321.0}, {'ba': 6744.0}, {'cvs': 6508.0}, {'hood': 6416.0}, {'intc': 5208.0}]\n",
      "2024-12-20 : [{'bkkt': 58652.0}, {'mu': 22900.0}, {'ba': 8843.0}, {'x': 8521.0}, {'amd': 8257.0}, {'qs': 7899.0}, {'sofi': 7518.0}, {'snap': 6555.0}, {'u': 6237.0}, {'c': 5176.0}]\n",
      "2024-12-23 : [{'bkkt': 58652.0}, {'tgt': 44339.0}, {'panw': 24997.0}, {'csco': 17819.0}, {'amd': 16674.0}, {'dell': 14400.0}, {'pltr': 12228.0}, {'xom': 11157.0}, {'intc': 10750.0}, {'x': 9982.0}]\n",
      "2024-12-24 : [{'bkkt': 58652.0}, {'k': -656.0}, {'sol': -2050.0}, {'kr': -2466.0}, {'ntr': -2894.0}, {'clx': -3131.0}, {'aig': -3276.0}, {'fcel': -3531.0}, {'hsbc': -3962.0}, {'ctva': -4077.0}]\n",
      "2024-12-26 : [{'intc': 771085.0}, {'f': 517968.0}, {'pltr': 448709.0}, {'sofi': 428587.0}, {'pypl': 407370.0}, {'aal': 388556.0}, {'x': 375896.0}, {'vale': 367837.0}, {'amd': 364616.0}, {'c': 360057.0}]\n",
      "2024-12-27 : [{'pfe': 387808.0}, {'csco': 79175.0}, {'bkkt': 58652.0}, {'u': 15927.0}, {'amd': 12035.0}, {'pltr': 11197.0}, {'ba': 9032.0}, {'gme': 9019.0}, {'avgo': 8681.0}, {'amc': 8238.0}]\n",
      "2024-12-30 : [{'bkkt': 58652.0}, {'pltr': 30651.0}, {'sofi': 29103.0}, {'amd': 23034.0}, {'avgo': 21278.0}, {'mara': 19967.0}, {'smci': 19148.0}, {'intc': 15909.0}, {'f': 14477.0}, {'gme': 11361.0}]\n",
      "2024-12-31 : [{'bkkt': 58652.0}, {'gme': 26833.0}, {'sofi': 26670.0}, {'mara': 25371.0}, {'aa': 22836.0}, {'baba': 16085.0}, {'uber': 14240.0}, {'cvs': 13897.0}, {'amd': 12518.0}, {'pltr': 11761.0}]\n"
     ]
    }
   ],
   "source": [
    "for key, val in r.items():\n",
    "    if val != []:\n",
    "        print(key, ':', val)"
   ]
  },
  {
   "cell_type": "code",
   "execution_count": 13,
   "metadata": {},
   "outputs": [
    {
     "data": {
      "text/plain": [
       "array([-0.01575421, -0.02457665, -0.02538192, -0.02712114, -0.01122854,\n",
       "       -0.05970811, -0.08889749, -0.10637621, -0.14001988, -0.12184927,\n",
       "       -0.11946043, -0.12558191, -0.11359262, -0.11888903, -0.09941216,\n",
       "       -0.08814175, -0.07445986, -0.08438165, -0.07390899])"
      ]
     },
     "execution_count": 13,
     "metadata": {},
     "output_type": "execute_result"
    }
   ],
   "source": [
    "def calculate_returns_after_signal(stock, date_of_signal):\n",
    "    \"\"\"\n",
    "    Calculate the returns after a signal date.\n",
    "    \"\"\"\n",
    "    try:\n",
    "        # Get the stock data for the given stock\n",
    "        stock_data = cp_dat.get_daily_ohlcv(stock)\n",
    "        stock_data['Returns'] = stock_data['Close'].pct_change()\n",
    "        \n",
    "        # Convert the date_of_signal to datetime\n",
    "        date_of_signal = dt.datetime.strptime(date_of_signal, '%Y-%m-%d')\n",
    "        \n",
    "        # Filter the stock data for dates after the signal date\n",
    "        filtered_data = stock_data[stock_data['Date'] > date_of_signal]\n",
    "        \n",
    "        # Calculate returns\n",
    "        returns = filtered_data['Returns'].values\n",
    "        \n",
    "        return returns.cumsum()\n",
    "    except Exception as e:\n",
    "        print(f'Error calculating returns for {stock} on {date_of_signal}: {e}')\n",
    "        return None\n",
    "    \n",
    "\n",
    "calculate_returns_after_signal('AAPL', '2025-03-01')"
   ]
  },
  {
   "cell_type": "markdown",
   "metadata": {},
   "source": [
    "oi_increase\n",
    "('gme', True)\n",
    "('aapl', True)\n",
    "('pfe', True)\n",
    "('uber', True)\n",
    "('goog', True)\n",
    "('ntr', True)\n",
    "('dkng', True)\n",
    "('mdb', True)\n",
    "('uwmc', True)\n",
    "('pltr', True)\n"
   ]
  },
  {
   "cell_type": "code",
   "execution_count": null,
   "metadata": {},
   "outputs": [
    {
     "data": {
      "text/plain": [
       "dict_keys(['2024-11-01', '2024-11-04', '2024-11-05', '2024-11-06', '2024-11-07', '2024-11-08', '2024-11-11', '2024-11-12', '2024-11-13', '2024-11-14', '2024-11-15', '2024-11-18', '2024-11-19', '2024-11-20', '2024-11-21', '2024-11-22', '2024-11-25', '2024-11-26', '2024-11-27', '2024-11-29', '2024-12-02', '2024-12-03', '2024-12-04', '2024-12-05', '2024-12-06', '2024-12-09', '2024-12-10', '2024-12-11', '2024-12-12', '2024-12-13', '2024-12-16', '2024-12-17', '2024-12-18', '2024-12-19', '2024-12-20', '2024-12-23', '2024-12-24', '2024-12-26', '2024-12-27', '2024-12-30', '2024-12-31'])"
      ]
     },
     "execution_count": 15,
     "metadata": {},
     "output_type": "execute_result"
    }
   ],
   "source": []
  },
  {
   "cell_type": "code",
   "execution_count": null,
   "metadata": {},
   "outputs": [],
   "source": []
  }
 ],
 "metadata": {
  "kernelspec": {
   "display_name": "ds24",
   "language": "python",
   "name": "python3"
  },
  "language_info": {
   "codemirror_mode": {
    "name": "ipython",
    "version": 3
   },
   "file_extension": ".py",
   "mimetype": "text/x-python",
   "name": "python",
   "nbconvert_exporter": "python",
   "pygments_lexer": "ipython3",
   "version": "3.12.1"
  }
 },
 "nbformat": 4,
 "nbformat_minor": 2
}
