{
 "cells": [
  {
   "cell_type": "code",
   "execution_count": 1,
   "metadata": {},
   "outputs": [],
   "source": [
    "import sys\n",
    "sys.path.append('/Users/jerald/Documents/Dir/Python/stocker')\n",
    "\n",
    "################################################################################################\n",
    "import pandas as pd \n",
    "import numpy as np \n",
    "import matplotlib.pyplot as plt\n",
    "import datetime as dt \n",
    "import json \n",
    "import yfinance as yf\n",
    "import sqlite3 as sql\n",
    "from bin.main import get_path\n",
    "connections = get_path('../../../')"
   ]
  },
  {
   "cell_type": "code",
   "execution_count": 2,
   "metadata": {},
   "outputs": [],
   "source": [
    "from alerts.plays.dxp import dxp "
   ]
  },
  {
   "cell_type": "code",
   "execution_count": 3,
   "metadata": {},
   "outputs": [],
   "source": [
    "d = dxp(connections)"
   ]
  },
  {
   "cell_type": "code",
   "execution_count": 18,
   "metadata": {},
   "outputs": [],
   "source": [
    "df = d.run('aapl').reset_index()"
   ]
  },
  {
   "cell_type": "code",
   "execution_count": 22,
   "metadata": {},
   "outputs": [
    {
     "data": {
      "text/html": [
       "<div>\n",
       "<style scoped>\n",
       "    .dataframe tbody tr th:only-of-type {\n",
       "        vertical-align: middle;\n",
       "    }\n",
       "\n",
       "    .dataframe tbody tr th {\n",
       "        vertical-align: top;\n",
       "    }\n",
       "\n",
       "    .dataframe thead th {\n",
       "        text-align: right;\n",
       "    }\n",
       "</style>\n",
       "<table border=\"1\" class=\"dataframe\">\n",
       "  <thead>\n",
       "    <tr style=\"text-align: right;\">\n",
       "      <th></th>\n",
       "      <th></th>\n",
       "      <th></th>\n",
       "      <th></th>\n",
       "      <th>volume</th>\n",
       "      <th>openinterest</th>\n",
       "      <th>cash</th>\n",
       "      <th>lastprice</th>\n",
       "    </tr>\n",
       "    <tr>\n",
       "      <th>expiry</th>\n",
       "      <th>type</th>\n",
       "      <th>strike</th>\n",
       "      <th>sd</th>\n",
       "      <th></th>\n",
       "      <th></th>\n",
       "      <th></th>\n",
       "      <th></th>\n",
       "    </tr>\n",
       "  </thead>\n",
       "  <tbody>\n",
       "    <tr>\n",
       "      <th rowspan=\"4\" valign=\"top\">2024-11-01</th>\n",
       "      <th rowspan=\"2\" valign=\"top\">Call</th>\n",
       "      <th>242.5</th>\n",
       "      <th>1</th>\n",
       "      <td>5156</td>\n",
       "      <td>7997</td>\n",
       "      <td>81169.55</td>\n",
       "      <td>1.10</td>\n",
       "    </tr>\n",
       "    <tr>\n",
       "      <th>252.5</th>\n",
       "      <th>2</th>\n",
       "      <td>855</td>\n",
       "      <td>7108</td>\n",
       "      <td>143226.20</td>\n",
       "      <td>0.09</td>\n",
       "    </tr>\n",
       "    <tr>\n",
       "      <th rowspan=\"2\" valign=\"top\">Put</th>\n",
       "      <th>212.5</th>\n",
       "      <th>2</th>\n",
       "      <td>303</td>\n",
       "      <td>3534</td>\n",
       "      <td>70149.90</td>\n",
       "      <td>0.15</td>\n",
       "    </tr>\n",
       "    <tr>\n",
       "      <th>222.5</th>\n",
       "      <th>1</th>\n",
       "      <td>2621</td>\n",
       "      <td>10690</td>\n",
       "      <td>105296.50</td>\n",
       "      <td>0.73</td>\n",
       "    </tr>\n",
       "    <tr>\n",
       "      <th>2024-11-08</th>\n",
       "      <th>Call</th>\n",
       "      <th>242.5</th>\n",
       "      <th>1</th>\n",
       "      <td>776</td>\n",
       "      <td>895</td>\n",
       "      <td>9084.25</td>\n",
       "      <td>2.04</td>\n",
       "    </tr>\n",
       "  </tbody>\n",
       "</table>\n",
       "</div>"
      ],
      "text/plain": [
       "                           volume  openinterest       cash  lastprice\n",
       "expiry     type strike sd                                            \n",
       "2024-11-01 Call 242.5  1     5156          7997   81169.55       1.10\n",
       "                252.5  2      855          7108  143226.20       0.09\n",
       "           Put  212.5  2      303          3534   70149.90       0.15\n",
       "                222.5  1     2621         10690  105296.50       0.73\n",
       "2024-11-08 Call 242.5  1      776           895    9084.25       2.04"
      ]
     },
     "execution_count": 22,
     "metadata": {},
     "output_type": "execute_result"
    }
   ],
   "source": [
    "expirations = sorted(list(df.expiry.unique()))\n",
    "exp = expirations[0]\n",
    "\n",
    "# First 5 Expirations\n",
    "cry = (df.expiry.isin(expirations[:5]))\n",
    "gbdf = df[cry].copy().groupby(['expiry','type','strike','sd']).agg({'volume':'sum', 'openinterest':'sum', 'cash':'sum', 'lastprice':'last'})\n",
    "gbdf.head()"
   ]
  },
  {
   "cell_type": "code",
   "execution_count": 23,
   "metadata": {},
   "outputs": [
    {
     "data": {
      "text/html": [
       "<div>\n",
       "<style scoped>\n",
       "    .dataframe tbody tr th:only-of-type {\n",
       "        vertical-align: middle;\n",
       "    }\n",
       "\n",
       "    .dataframe tbody tr th {\n",
       "        vertical-align: top;\n",
       "    }\n",
       "\n",
       "    .dataframe thead th {\n",
       "        text-align: right;\n",
       "    }\n",
       "</style>\n",
       "<table border=\"1\" class=\"dataframe\">\n",
       "  <thead>\n",
       "    <tr style=\"text-align: right;\">\n",
       "      <th></th>\n",
       "      <th></th>\n",
       "      <th>volume</th>\n",
       "      <th>openinterest</th>\n",
       "      <th>lastprice</th>\n",
       "    </tr>\n",
       "    <tr>\n",
       "      <th>expiry</th>\n",
       "      <th>type</th>\n",
       "      <th></th>\n",
       "      <th></th>\n",
       "      <th></th>\n",
       "    </tr>\n",
       "  </thead>\n",
       "  <tbody>\n",
       "    <tr>\n",
       "      <th rowspan=\"2\" valign=\"top\">2024-11-01</th>\n",
       "      <th>Call</th>\n",
       "      <td>70199</td>\n",
       "      <td>181306</td>\n",
       "      <td>0.01</td>\n",
       "    </tr>\n",
       "    <tr>\n",
       "      <th>Put</th>\n",
       "      <td>51362</td>\n",
       "      <td>137298</td>\n",
       "      <td>66.80</td>\n",
       "    </tr>\n",
       "    <tr>\n",
       "      <th rowspan=\"2\" valign=\"top\">2024-11-08</th>\n",
       "      <th>Call</th>\n",
       "      <td>15183</td>\n",
       "      <td>59104</td>\n",
       "      <td>0.01</td>\n",
       "    </tr>\n",
       "    <tr>\n",
       "      <th>Put</th>\n",
       "      <td>21000</td>\n",
       "      <td>54990</td>\n",
       "      <td>59.55</td>\n",
       "    </tr>\n",
       "    <tr>\n",
       "      <th>2024-11-15</th>\n",
       "      <th>Call</th>\n",
       "      <td>22148</td>\n",
       "      <td>401511</td>\n",
       "      <td>0.01</td>\n",
       "    </tr>\n",
       "  </tbody>\n",
       "</table>\n",
       "</div>"
      ],
      "text/plain": [
       "                 volume  openinterest  lastprice\n",
       "expiry     type                                 \n",
       "2024-11-01 Call   70199        181306       0.01\n",
       "           Put    51362        137298      66.80\n",
       "2024-11-08 Call   15183         59104       0.01\n",
       "           Put    21000         54990      59.55\n",
       "2024-11-15 Call   22148        401511       0.01"
      ]
     },
     "execution_count": 23,
     "metadata": {},
     "output_type": "execute_result"
    }
   ],
   "source": [
    "gbdf = d.odf.copy().groupby(['expiry','type']).agg({'volume':'sum', 'openinterest':'sum', 'lastprice':'last'})\n",
    "gbdf.head()"
   ]
  },
  {
   "cell_type": "code",
   "execution_count": 100,
   "metadata": {},
   "outputs": [
    {
     "data": {
      "text/plain": [
       "{'stock': 'AAPL',\n",
       " 'expiry': Timestamp('2024-11-01 00:00:00'),\n",
       " 'exp': '11/1',\n",
       " 'stk_price': 232.35,\n",
       " 'empct': 0.04109102646868948,\n",
       " 'empct2': 0.08218205293737896}"
      ]
     },
     "execution_count": 100,
     "metadata": {},
     "output_type": "execute_result"
    }
   ],
   "source": [
    "df['play'] = df['type'] + '_' + df['sd'].astype('str')\n",
    "df['expiry'] = pd.to_datetime(df['expiry'])\n",
    "df['exp'] = df['expiry'].apply(lambda x: x.strftime('%-m/%-d'))\n",
    "# Step 1: Get whats priced in \n",
    "priced_in = df.set_index(['stock','expiry','exp'])[['stk_price','empct']].drop_duplicates().sort_index().reset_index().to_dict('records')[0]\n",
    "priced_in['empct2'] = priced_in['empct'] * 2\n",
    "priced_in"
   ]
  },
  {
   "cell_type": "code",
   "execution_count": 107,
   "metadata": {},
   "outputs": [
    {
     "data": {
      "text/html": [
       "<div>\n",
       "<style scoped>\n",
       "    .dataframe tbody tr th:only-of-type {\n",
       "        vertical-align: middle;\n",
       "    }\n",
       "\n",
       "    .dataframe tbody tr th {\n",
       "        vertical-align: top;\n",
       "    }\n",
       "\n",
       "    .dataframe thead th {\n",
       "        text-align: right;\n",
       "    }\n",
       "</style>\n",
       "<table border=\"1\" class=\"dataframe\">\n",
       "  <thead>\n",
       "    <tr style=\"text-align: right;\">\n",
       "      <th></th>\n",
       "      <th>play</th>\n",
       "      <th>strike</th>\n",
       "      <th>lastprice</th>\n",
       "      <th>be</th>\n",
       "    </tr>\n",
       "  </thead>\n",
       "  <tbody>\n",
       "    <tr>\n",
       "      <th>35</th>\n",
       "      <td>Put_1</td>\n",
       "      <td>222.5</td>\n",
       "      <td>0.73</td>\n",
       "      <td>-0.045535</td>\n",
       "    </tr>\n",
       "    <tr>\n",
       "      <th>54</th>\n",
       "      <td>Call_1</td>\n",
       "      <td>242.5</td>\n",
       "      <td>1.10</td>\n",
       "      <td>0.048418</td>\n",
       "    </tr>\n",
       "    <tr>\n",
       "      <th>18</th>\n",
       "      <td>Put_2</td>\n",
       "      <td>212.5</td>\n",
       "      <td>0.15</td>\n",
       "      <td>-0.086077</td>\n",
       "    </tr>\n",
       "    <tr>\n",
       "      <th>75</th>\n",
       "      <td>Call_2</td>\n",
       "      <td>252.5</td>\n",
       "      <td>0.09</td>\n",
       "      <td>0.087110</td>\n",
       "    </tr>\n",
       "  </tbody>\n",
       "</table>\n",
       "</div>"
      ],
      "text/plain": [
       "      play  strike  lastprice        be\n",
       "35   Put_1   222.5       0.73 -0.045535\n",
       "54  Call_1   242.5       1.10  0.048418\n",
       "18   Put_2   212.5       0.15 -0.086077\n",
       "75  Call_2   252.5       0.09  0.087110"
      ]
     },
     "execution_count": 107,
     "metadata": {},
     "output_type": "execute_result"
    }
   ],
   "source": [
    "plays = df[(df.expiry == priced_in['expiry'])].sort_values('sd', ascending=True)[['play','strike','lastprice', 'be']]\n",
    "plays"
   ]
  },
  {
   "cell_type": "code",
   "execution_count": 98,
   "metadata": {},
   "outputs": [
    {
     "name": "stdout",
     "output_type": "stream",
     "text": [
      "$AAPL is trading at $232.35 and is expecting a 4.11% move by 11/1\n",
      "\n"
     ]
    }
   ],
   "source": [
    "summary_text = f'''${priced_in['stock']} is trading at ${priced_in['stk_price']} and is expecting a {priced_in['empct']:.2%} move by {priced_in['exp']:}\\n'''\n",
    "play_text = f'''Lottos: \\n'''\n",
    "print(summary_text)"
   ]
  },
  {
   "cell_type": "code",
   "execution_count": 85,
   "metadata": {},
   "outputs": [
    {
     "data": {
      "text/plain": [
       "0    2027-01-15\n",
       "1    2025-01-17\n",
       "2    2024-12-06\n",
       "3    2025-12-19\n",
       "4    2026-01-16\n",
       "        ...    \n",
       "71   2024-12-06\n",
       "72   2025-03-21\n",
       "73   2024-11-15\n",
       "74   2024-11-08\n",
       "75   2024-11-01\n",
       "Name: expiry, Length: 76, dtype: datetime64[ns]"
      ]
     },
     "execution_count": 85,
     "metadata": {},
     "output_type": "execute_result"
    }
   ],
   "source": []
  },
  {
   "cell_type": "code",
   "execution_count": null,
   "metadata": {},
   "outputs": [],
   "source": []
  }
 ],
 "metadata": {
  "kernelspec": {
   "display_name": "ds24",
   "language": "python",
   "name": "python3"
  },
  "language_info": {
   "codemirror_mode": {
    "name": "ipython",
    "version": 3
   },
   "file_extension": ".py",
   "mimetype": "text/x-python",
   "name": "python",
   "nbconvert_exporter": "python",
   "pygments_lexer": "ipython3",
   "version": "3.12.1"
  }
 },
 "nbformat": 4,
 "nbformat_minor": 2
}
