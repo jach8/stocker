{
 "cells": [
  {
   "cell_type": "code",
   "execution_count": 1,
   "metadata": {},
   "outputs": [],
   "source": [
    "import yfinance as yf \n",
    "import matplotlib.pyplot as plt\n",
    "import pandas as pd\n",
    "import pandas_datareader as pdr\n",
    "import numpy as np\n",
    "from ta import add_all_ta_features\n",
    "\n",
    "stock = 'SPY'\n",
    "stock_df = yf.Ticker(stock).history(period=\"7d\", interval = \"1m\")\n",
    "df = stock_df.copy()\n",
    "df.drop(columns = ['Dividends', 'Stock Splits', 'Capital Gains'], inplace = True)"
   ]
  },
  {
   "cell_type": "code",
   "execution_count": 42,
   "metadata": {},
   "outputs": [
    {
     "data": {
      "text/html": [
       "<div>\n",
       "<style scoped>\n",
       "    .dataframe tbody tr th:only-of-type {\n",
       "        vertical-align: middle;\n",
       "    }\n",
       "\n",
       "    .dataframe tbody tr th {\n",
       "        vertical-align: top;\n",
       "    }\n",
       "\n",
       "    .dataframe thead th {\n",
       "        text-align: right;\n",
       "    }\n",
       "</style>\n",
       "<table border=\"1\" class=\"dataframe\">\n",
       "  <thead>\n",
       "    <tr style=\"text-align: right;\">\n",
       "      <th></th>\n",
       "      <th>Open</th>\n",
       "      <th>High</th>\n",
       "      <th>Low</th>\n",
       "      <th>Close</th>\n",
       "      <th>Volume</th>\n",
       "    </tr>\n",
       "    <tr>\n",
       "      <th>Date</th>\n",
       "      <th></th>\n",
       "      <th></th>\n",
       "      <th></th>\n",
       "      <th></th>\n",
       "      <th></th>\n",
       "    </tr>\n",
       "  </thead>\n",
       "  <tbody>\n",
       "    <tr>\n",
       "      <th>2023-06-29 09:00:00</th>\n",
       "      <td>436.130005</td>\n",
       "      <td>436.391998</td>\n",
       "      <td>436.119995</td>\n",
       "      <td>436.369995</td>\n",
       "      <td>428268</td>\n",
       "    </tr>\n",
       "    <tr>\n",
       "      <th>2023-06-29 09:00:00</th>\n",
       "      <td>436.730011</td>\n",
       "      <td>436.949890</td>\n",
       "      <td>436.679993</td>\n",
       "      <td>436.880005</td>\n",
       "      <td>250259</td>\n",
       "    </tr>\n",
       "    <tr>\n",
       "      <th>2023-06-29 09:00:00</th>\n",
       "      <td>436.869995</td>\n",
       "      <td>436.899994</td>\n",
       "      <td>436.690002</td>\n",
       "      <td>436.809998</td>\n",
       "      <td>229650</td>\n",
       "    </tr>\n",
       "    <tr>\n",
       "      <th>2023-06-29 09:00:00</th>\n",
       "      <td>436.755005</td>\n",
       "      <td>436.804993</td>\n",
       "      <td>436.369995</td>\n",
       "      <td>436.399994</td>\n",
       "      <td>222062</td>\n",
       "    </tr>\n",
       "    <tr>\n",
       "      <th>2023-06-29 09:00:00</th>\n",
       "      <td>436.399994</td>\n",
       "      <td>436.524994</td>\n",
       "      <td>436.230011</td>\n",
       "      <td>436.255005</td>\n",
       "      <td>251526</td>\n",
       "    </tr>\n",
       "    <tr>\n",
       "      <th>...</th>\n",
       "      <td>...</td>\n",
       "      <td>...</td>\n",
       "      <td>...</td>\n",
       "      <td>...</td>\n",
       "      <td>...</td>\n",
       "    </tr>\n",
       "    <tr>\n",
       "      <th>2023-07-10 15:00:00</th>\n",
       "      <td>439.059998</td>\n",
       "      <td>439.220001</td>\n",
       "      <td>439.040009</td>\n",
       "      <td>439.130005</td>\n",
       "      <td>941095</td>\n",
       "    </tr>\n",
       "    <tr>\n",
       "      <th>2023-07-10 15:00:00</th>\n",
       "      <td>439.195007</td>\n",
       "      <td>439.260010</td>\n",
       "      <td>439.059998</td>\n",
       "      <td>439.075012</td>\n",
       "      <td>477080</td>\n",
       "    </tr>\n",
       "    <tr>\n",
       "      <th>2023-07-10 15:00:00</th>\n",
       "      <td>439.075012</td>\n",
       "      <td>439.160004</td>\n",
       "      <td>439.040009</td>\n",
       "      <td>439.125000</td>\n",
       "      <td>652080</td>\n",
       "    </tr>\n",
       "    <tr>\n",
       "      <th>2023-07-10 15:00:00</th>\n",
       "      <td>439.125000</td>\n",
       "      <td>439.169006</td>\n",
       "      <td>439.070007</td>\n",
       "      <td>439.160004</td>\n",
       "      <td>1150364</td>\n",
       "    </tr>\n",
       "    <tr>\n",
       "      <th>2023-07-10 15:00:00</th>\n",
       "      <td>439.160004</td>\n",
       "      <td>439.670013</td>\n",
       "      <td>439.160004</td>\n",
       "      <td>439.660004</td>\n",
       "      <td>3444791</td>\n",
       "    </tr>\n",
       "  </tbody>\n",
       "</table>\n",
       "<p>1257 rows × 5 columns</p>\n",
       "</div>"
      ],
      "text/plain": [
       "                           Open        High         Low       Close   Volume\n",
       "Date                                                                        \n",
       "2023-06-29 09:00:00  436.130005  436.391998  436.119995  436.369995   428268\n",
       "2023-06-29 09:00:00  436.730011  436.949890  436.679993  436.880005   250259\n",
       "2023-06-29 09:00:00  436.869995  436.899994  436.690002  436.809998   229650\n",
       "2023-06-29 09:00:00  436.755005  436.804993  436.369995  436.399994   222062\n",
       "2023-06-29 09:00:00  436.399994  436.524994  436.230011  436.255005   251526\n",
       "...                         ...         ...         ...         ...      ...\n",
       "2023-07-10 15:00:00  439.059998  439.220001  439.040009  439.130005   941095\n",
       "2023-07-10 15:00:00  439.195007  439.260010  439.059998  439.075012   477080\n",
       "2023-07-10 15:00:00  439.075012  439.160004  439.040009  439.125000   652080\n",
       "2023-07-10 15:00:00  439.125000  439.169006  439.070007  439.160004  1150364\n",
       "2023-07-10 15:00:00  439.160004  439.670013  439.160004  439.660004  3444791\n",
       "\n",
       "[1257 rows x 5 columns]"
      ]
     },
     "execution_count": 42,
     "metadata": {},
     "output_type": "execute_result"
    }
   ],
   "source": [
    "# Index format\n",
    "df.index = [str(x)[:-6] for x in df.index]\n",
    "df.index = pd.to_datetime(df.index)\n",
    "df.index.name = 'Date'\n",
    "\n",
    "# df[df.diff().sum(axis = 1) > 0]"
   ]
  },
  {
   "cell_type": "code",
   "execution_count": 54,
   "metadata": {},
   "outputs": [
    {
     "data": {
      "text/plain": [
       "<AxesSubplot:xlabel='Date'>"
      ]
     },
     "execution_count": 54,
     "metadata": {},
     "output_type": "execute_result"
    },
    {
     "data": {
      "image/png": "[encoded data removed]",
      "text/plain": [
       "<Figure size 1440x360 with 1 Axes>"
      ]
     },
     "metadata": {
      "needs_background": "light"
     },
     "output_type": "display_data"
    }
   ],
   "source": [
    "pdf = df.drop(columns = ['Volume']).copy()\n",
    "#pdf = pdf.resample('1min').last().fillna(method = 'ffill')\n",
    "#pdf = pdf[pdf.diff().sum(axis = 1) != 0]\n",
    "pdf.between_time('9:30', '16:00').diff().plot(figsize = (20,5))\n",
    "\n",
    "\n"
   ]
  },
  {
   "cell_type": "code",
   "execution_count": 21,
   "metadata": {},
   "outputs": [
    {
     "data": {
      "text/plain": [
       "((41, 5), (41, 41), (41,))"
      ]
     },
     "execution_count": 21,
     "metadata": {},
     "output_type": "execute_result"
    }
   ],
   "source": [
    "\n",
    "# PCA \n",
    "X = pdf.to_numpy()\n",
    "\n",
    "def PCA(X, k):\n",
    "    mu = np.mean(X, axis=1)[:, None]\n",
    "    X_centered = X\n",
    "    C = np.dot(X_centered, X_centered.T) / X.shape[0]\n",
    "    S, W = np.linalg.eig(C)\n",
    "    S = S.real; W = W.real\n",
    "    idx = S.argsort()[::-1]\n",
    "    S = S[idx]; W = W[:, idx]\n",
    "    dim1 = np.dot(W[:, 0].T, X_centered)\n",
    "    dim2 = np.dot(W[:, 1].T, X_centered)\n",
    "    return S, W, dim1, dim2\n",
    "\n",
    "S, W, dim1, dim2 = PCA(X, 3)\n",
    "\n",
    "pdf.shape, W.shape, S.shape,"
   ]
  }
 ],
 "metadata": {
  "kernelspec": {
   "display_name": "Python 3",
   "language": "python",
   "name": "python3"
  },
  "language_info": {
   "codemirror_mode": {
    "name": "ipython",
    "version": 3
   },
   "file_extension": ".py",
   "mimetype": "text/x-python",
   "name": "python",
   "nbconvert_exporter": "python",
   "pygments_lexer": "ipython3",
   "version": "3.9.13"
  },
  "orig_nbformat": 4
 },
 "nbformat": 4,
 "nbformat_minor": 2
}
