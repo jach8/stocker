{
 "cells": [
  {
   "cell_type": "code",
   "execution_count": 1,
   "metadata": {},
   "outputs": [
    {
     "name": "stderr",
     "output_type": "stream",
     "text": [
      "2025-02-13 16:29:58,123 - INFO - PriceDB Initialized successfully at 2025-02-13 16:29:58.123778\n",
      "2025-02-13 16:29:58,124 - INFO - Established 3 database connections\n"
     ]
    },
    {
     "name": "stdout",
     "output_type": "stream",
     "text": [
      "\n",
      "\n",
      "\n"
     ]
    }
   ],
   "source": [
    "import numpy as np \n",
    "import pandas as pd \n",
    "from BagLearner import BagLearner as BL\n",
    "from DTLearner import DTLearner as DTL\n",
    "from RTLearner import RTLearner as  RTL\n",
    "from LinRegLearner import LinRegLearner as LRL\n",
    "from InsaneLearner import InsaneLearner as ILR\n",
    "\n",
    "import sys\n",
    "sys.path.append(\"/Users/jerald/Documents/Dir/Python/Stocks\")\n",
    "from bin.price.indicators import Indicators\n",
    "from models.rtlearn.plugin import data as Manager\n",
    "\n",
    "M = Manager('../../')"
   ]
  },
  {
   "cell_type": "code",
   "execution_count": 2,
   "metadata": {},
   "outputs": [],
   "source": [
    "xtrain, ytrain, xtest, ytest = M.split('spy', start_date='2022-01-01', end_date='2024-06-29')"
   ]
  },
  {
   "cell_type": "code",
   "execution_count": 3,
   "metadata": {},
   "outputs": [
    {
     "data": {
      "text/plain": [
       "0.46"
      ]
     },
     "execution_count": 3,
     "metadata": {},
     "output_type": "execute_result"
    }
   ],
   "source": [
    "learner = RTL(leaf_size=20, verbose=False)\n",
    "learner.add_evidence(xtrain, ytrain)\n",
    "pred = learner.query(xtest)\n",
    "M.accuracy(ytest, pred)"
   ]
  },
  {
   "cell_type": "code",
   "execution_count": 4,
   "metadata": {},
   "outputs": [],
   "source": [
    "rl_learn = BL(learner=RTL, kwargs={'leaf_size':10}, bags=20, boost=False, verbose=True)\n",
    "dtl_learn = BL(learner=DTL, kwargs={'leaf_size':10}, bags=20, boost=False, verbose=True)\n",
    "reg_learn = BL(learner=ILR, kwargs={}, bags=20, boost=False, verbose=True)\n",
    "insane_learn = BL(learner=ILR, kwargs={}, bags=20, boost=True, verbose=True)\n",
    "\n",
    "mods = [rl_learn, dtl_learn, reg_learn, insane_learn]\n",
    "\n",
    "fits = [x.add_evidence(xtrain, ytrain) for x in mods]\n",
    "preds = [x.query(xtest) for x in mods]"
   ]
  },
  {
   "cell_type": "code",
   "execution_count": 5,
   "metadata": {},
   "outputs": [
    {
     "data": {
      "text/plain": [
       "[0.86, 0.86, 0.85, 0.84]"
      ]
     },
     "execution_count": 5,
     "metadata": {},
     "output_type": "execute_result"
    }
   ],
   "source": [
    "[M.accuracy(ytest, preds[x]) for x in range(len(mods))]"
   ]
  },
  {
   "cell_type": "code",
   "execution_count": 6,
   "metadata": {},
   "outputs": [
    {
     "name": "stdout",
     "output_type": "stream",
     "text": [
      "(57, 27) (57,) (100, 27) (100,)\n"
     ]
    }
   ],
   "source": [
    "xtrain, ytrain, xtest, ytest = M.split('spy', start_date='2024-06-29')\n",
    "print(xtrain.shape, ytrain.shape, xtest.shape, ytest.shape)"
   ]
  },
  {
   "cell_type": "code",
   "execution_count": 7,
   "metadata": {},
   "outputs": [],
   "source": [
    "preds = [x.query(xtest) for x in mods]"
   ]
  },
  {
   "cell_type": "code",
   "execution_count": 9,
   "metadata": {},
   "outputs": [
    {
     "data": {
      "text/plain": [
       "2"
      ]
     },
     "execution_count": 9,
     "metadata": {},
     "output_type": "execute_result"
    }
   ],
   "source": [
    "[M.multi_class(x) for x in preds[0]][-1]"
   ]
  },
  {
   "cell_type": "code",
   "execution_count": null,
   "metadata": {},
   "outputs": [],
   "source": []
  }
 ],
 "metadata": {
  "kernelspec": {
   "display_name": "ds24",
   "language": "python",
   "name": "python3"
  },
  "language_info": {
   "codemirror_mode": {
    "name": "ipython",
    "version": 3
   },
   "file_extension": ".py",
   "mimetype": "text/x-python",
   "name": "python",
   "nbconvert_exporter": "python",
   "pygments_lexer": "ipython3",
   "version": "3.12.1"
  }
 },
 "nbformat": 4,
 "nbformat_minor": 2
}
